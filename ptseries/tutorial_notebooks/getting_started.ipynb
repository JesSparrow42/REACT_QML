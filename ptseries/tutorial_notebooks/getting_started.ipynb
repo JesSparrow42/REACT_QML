{
 "cells": [
  {
   "attachments": {},
   "cell_type": "markdown",
   "metadata": {},
   "source": [
    "# Getting Started with the ORCA PT Series\n",
    "\n",
    "Welcome to ORCA Computing's python SDK for developing machine learning algorithms with the PT Series time bin interferometer! ORCA's PT Series consists of a train of optical pulses that interfere with each other within one or more loops, producing a large superposition state with different photon numbers at the outputs. The interference is determined by a programmable beam splitter located at each loop, with reflectivity $\\theta$. This process is illustrated in the following diagram.\n",
    "\n",
    "<center><img src=\"./figures/tbi.png\" alt=\"ORCA's PT Series\" width=\"600\"/></center>\n",
    "<center>Figure 1: Architecture of a PT Series device.</center>\n",
    "\n",
    "This notebook shows you how to run a simple simulation of the PT Series to understand the underlying concepts and physics. Applications and more advanced simulations are described in the other notebooks in this folder."
   ]
  },
  {
   "cell_type": "code",
   "execution_count": null,
   "metadata": {},
   "outputs": [],
   "source": [
    "# First, perform the relevant imports and navigate to the root folder\n",
    "import os\n",
    "import numpy as np\n",
    "import matplotlib.pyplot as plt\n",
    "\n",
    "if os.getcwd().endswith(\"notebooks\"):\n",
    "    os.chdir(\"..\")\n",
    "\n",
    "from ptseries.tbi import create_tbi"
   ]
  },
  {
   "attachments": {},
   "cell_type": "markdown",
   "metadata": {},
   "source": [
    "## Simulation of three single photons in one loop\n",
    "\n",
    "<center><img src=\"./figures/three_photons.png\" alt=\"A three photon circuit\" width=\"300\"/></center>\n",
    "<center>Figure 2: Photonic circuit diagram of a single loop PT Series with three input photons.</center>\n",
    "\n",
    "The photonic circuit diagram corresponding to a single loop PT Series quantum processor with three input photons is shown in figure 2. In this figure, each input time bin is represented as a straight line, and each beam splitter with coupling parameter $\\theta$ is represented as two crossing lines. Here, the first photon interferes with the second photon at the first beam splitter, and part of the output either leaves the loop (going straight out along the top line) or stays in the loop (going to the second beam splitter). The part that stays in the loop interferes with the third photon, and the output either directly leaves the loop (going straight out along the second line) or stays in the loop for one more cycle before exiting (along the third line).\n",
    "\n",
    "The following code simulates these three photons interfering with each other within a single loop PT Series device, where the beam splitter coupling coefficients are set to 50:50. Since this SDK uses radians by convention, and the transmission coefficient through a beam splitter is $\\cos(\\theta)^2$, we set $\\theta=\\pi/4$ to get $\\cos(\\theta)^2=0.5$. We measure the output of the device which tells us where the photons left the circuit. Since this is a quantum process, two consecutive runs of the experiment may not yield the same result. In the following two cells, we draw the circuit, simulate running this experiment 100 times, print the output statistics, and plot a histogram."
   ]
  },
  {
   "cell_type": "code",
   "execution_count": null,
   "metadata": {},
   "outputs": [],
   "source": [
    "tbi = create_tbi()\n",
    "tbi.draw(input_state=(1, 1, 1))"
   ]
  },
  {
   "cell_type": "code",
   "execution_count": null,
   "metadata": {},
   "outputs": [],
   "source": [
    "# Draw samples\n",
    "samples = tbi.sample(\n",
    "    input_state=(1, 1, 1), theta_list=[np.pi / 4, np.pi / 4], n_samples=100\n",
    ")\n",
    "\n",
    "# Plot a histogram of the counts\n",
    "samples_sorted = dict(sorted(samples.items(), key=lambda state: state[0]))\n",
    "labels = list(samples_sorted.keys())\n",
    "labels = [str(i) for i in labels]\n",
    "values = list(samples_sorted.values())\n",
    "fig, ax = plt.subplots(figsize=(6, 4))\n",
    "ax.bar(range(len(values)), values, tick_label=labels)\n",
    "ax.set_xticklabels(labels, rotation=45)\n",
    "plt.show()"
   ]
  },
  {
   "cell_type": "markdown",
   "metadata": {},
   "source": [
    "As illustrated in this example, the PT Series produces a complex probability distribution that depends on the input state and the values of the programmable parameters. Feel free to play around with these parameters to see how this affects the probability distribution!\n",
    "\n",
    "# What next?\n",
    "If you would like to continue exploring simulations of the PT Series and its various configurations check out the `ptseries_simulation.ipynb` notebook. Or if you have access to a PT-1 device then the `PT1_demo.ipynb` notebook demonstrates how to connect to the device, program it and receive data. \n",
    "\n",
    "The PT Series system also has several applications, several of which have a dedicated tutorial notebook in this folder. To explore ORCA's proprietary bosonic binary solver algorithm you can use `binary_bosonic_solver.ipynb`, which demonstrates the application of this algorithm to two notable binary optimization problems including Max-Cut and binary knapsack. In `quantum_variational_classfication.ipynb` we demonstrate how the PT Series can operate as a drop-in replacement for a layer within a classical neural network and utilize the resultant hybrid quantum-classical neural network to perform a simple classification task. Finally, in `mnist_generation.ipynb` we illustrate our hybrid quantum-classical implementation of a generative adversarial network (GAN) for generating images which imitate those from the MNIST dataset of handwritten digits."
   ]
  }
 ],
 "metadata": {
  "language_info": {
   "name": "python"
  }
 },
 "nbformat": 4,
 "nbformat_minor": 4
}
