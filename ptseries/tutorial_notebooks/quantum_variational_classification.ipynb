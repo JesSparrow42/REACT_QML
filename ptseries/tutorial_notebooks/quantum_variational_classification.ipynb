{
 "cells": [
  {
   "attachments": {},
   "cell_type": "markdown",
   "metadata": {},
   "source": [
    "# Demonstration of a Quantum Variational Classification algorithm using the PT Series\n",
    "\n",
    "This notebook demonstrates a simple quantum classification algorithm using the PT Series, where we determine whether some random points on a plane are located within a circle. The input points are encoded into beam splitter angles using a linear function, and the output states are transformed into class probabilities using a neural network with one hidden layer. This is an example of a hybrid quantum/classical neural network.\n",
    "\n",
    "<center><img src=\"./figures/classifier_model.png\" alt=\"Illustration of a hybrid neural network\" width=\"400\"/></center>\n",
    "<center>Figure 1: Illustration of a hybrid quantum/classical neural network, where the PT Series acts as a quantum layer between two classical neural networks.</center>"
   ]
  },
  {
   "cell_type": "code",
   "execution_count": null,
   "metadata": {},
   "outputs": [],
   "source": [
    "# First, perform the relevant imports and navigate to the root folder\n",
    "import os\n",
    "import matplotlib.pyplot as plt\n",
    "import torch\n",
    "import torch.nn as nn\n",
    "\n",
    "if os.getcwd().endswith(\"notebooks\"):\n",
    "    os.chdir(\"..\")\n",
    "\n",
    "from ptseries.models.utils import calculate_n_params, calculate_output_dim\n",
    "from ptseries.models.pt_layer import PTLayer\n",
    "from ptseries.algorithms.classifiers import VariationalClassifier\n",
    "from ptseries.algorithms.classifiers.utils import create_dataloader"
   ]
  },
  {
   "attachments": {},
   "cell_type": "markdown",
   "metadata": {},
   "source": [
    "# Creating a simple dataset\n",
    "The dataset consists of 200 randomly selected points in the 2D box [-2, 2], where points that are within a radius of sqrt(2) from the center have yellow labels and the other points have blue labels."
   ]
  },
  {
   "cell_type": "code",
   "execution_count": null,
   "metadata": {},
   "outputs": [],
   "source": [
    "data = 4 * torch.rand((200, 2)) - 2\n",
    "labels = (\n",
    "    torch.where(data[:, 0] ** 2 + data[:, 1] ** 2 < 2, 1, 0)\n",
    "    .unsqueeze(1)\n",
    "    .to(torch.float32)\n",
    ")\n",
    "fig, ax = plt.subplots(figsize=(6, 6))\n",
    "ax.scatter(data[:, 0], data[:, 1], c=labels)\n",
    "ax.set_aspect(\"equal\", \"box\")\n",
    "plt.show()"
   ]
  },
  {
   "attachments": {},
   "cell_type": "markdown",
   "metadata": {},
   "source": [
    "In PyTorch, it is common to work with dataloaders that simplify the training by iterating over a dataset in a very efficient way."
   ]
  },
  {
   "cell_type": "code",
   "execution_count": null,
   "metadata": {},
   "outputs": [],
   "source": [
    "train_dataloader = create_dataloader(data, labels, batch_size=16)"
   ]
  },
  {
   "attachments": {},
   "cell_type": "markdown",
   "metadata": {},
   "source": [
    "# Defining the model"
   ]
  },
  {
   "attachments": {},
   "cell_type": "markdown",
   "metadata": {},
   "source": [
    "The following syntax is the one usually used in PyTorch to define a classical model: we define blocs to which the model input x is sent during the forward pass. The only difference with a classical PyTorch model is the use of the object PTLayer, which describes the PT Series quantum device. Here the PTLayer has 2 input features corresponding to the 2 variable parameters in a 3-mode and 1-loop PT Series, and 3 outputs corresponding to the average number of photons in the 3 output modes."
   ]
  },
  {
   "cell_type": "code",
   "execution_count": null,
   "metadata": {},
   "outputs": [],
   "source": [
    "class Model(nn.Module):\n",
    "    def __init__(self, tbi_params=None):\n",
    "        super().__init__()\n",
    "\n",
    "        self.input_size = 2\n",
    "        self.input_state = (0, 1, 0)\n",
    "        self.tbi_params = tbi_params\n",
    "        self.observable = \"avg-photons\"\n",
    "\n",
    "        # we use calculate_n_params to determine the number of beam splitter angles\n",
    "        n_params = calculate_n_params(self.input_state, tbi_params=self.tbi_params)\n",
    "        n_outputs = calculate_output_dim(\n",
    "            self.input_state, tbi_params=self.tbi_params, observable=self.observable\n",
    "        )\n",
    "\n",
    "        self.net = nn.Sequential(\n",
    "            nn.Linear(self.input_size, 100),\n",
    "            nn.ReLU(),\n",
    "            nn.Linear(100, n_params),\n",
    "            PTLayer(\n",
    "                self.input_state,\n",
    "                in_features=n_params,\n",
    "                observable=self.observable,\n",
    "                tbi_params=self.tbi_params,\n",
    "                n_samples=200,\n",
    "            ),\n",
    "            nn.Linear(n_outputs, 100),\n",
    "            nn.ReLU(),\n",
    "            nn.Linear(100, 1),\n",
    "            nn.Sigmoid(),\n",
    "        )\n",
    "\n",
    "    def forward(self, x):\n",
    "        return self.net(x)"
   ]
  },
  {
   "cell_type": "code",
   "execution_count": null,
   "metadata": {},
   "outputs": [],
   "source": [
    "model = Model()\n",
    "print(model)"
   ]
  },
  {
   "attachments": {},
   "cell_type": "markdown",
   "metadata": {},
   "source": [
    "We can also display all the parameters of the PT Series by using the `print_info` method of the PTLayer object."
   ]
  },
  {
   "cell_type": "code",
   "execution_count": null,
   "metadata": {},
   "outputs": [],
   "source": [
    "model.net[3].print_info()"
   ]
  },
  {
   "attachments": {},
   "cell_type": "markdown",
   "metadata": {},
   "source": [
    "# Training our model\n",
    "To train our model, we can directly use ORCA's SDK tools. The object `VariationalClassifier` in `ptseries.algorithms` can train any model (classical and/or quantum)."
   ]
  },
  {
   "cell_type": "code",
   "execution_count": null,
   "metadata": {},
   "outputs": [],
   "source": [
    "loss_function = nn.BCELoss()\n",
    "classifier = VariationalClassifier(model, loss_function)"
   ]
  },
  {
   "cell_type": "code",
   "execution_count": null,
   "metadata": {},
   "outputs": [],
   "source": [
    "# Start the training loop. This takes a few seconds\n",
    "classifier.train(\n",
    "    train_dataloader,  # PyTorch dataloader containing the training data\n",
    "    learning_rate=1e-2,\n",
    "    epochs=5,\n",
    "    print_frequency=5,\n",
    "    verbose=True,\n",
    ")"
   ]
  },
  {
   "attachments": {},
   "cell_type": "markdown",
   "metadata": {},
   "source": [
    "# Model evaluation\n",
    "We now evaluate the learned model on some randomly selected test data, and observe that the model has generally correctly learned to separate the two classes. This is a simple demonstration of a quantum variational classifier using a single photon and simple encoding and decoding schemes; better performance can be achieved with more complex schemes and longer training runs."
   ]
  },
  {
   "cell_type": "code",
   "execution_count": null,
   "metadata": {},
   "outputs": [],
   "source": [
    "# Create some new test data and perform inference\n",
    "data_test = 4 * torch.rand((200, 2)) - 2\n",
    "classifier.model.eval()  # this sets PTLayer in eval mode\n",
    "predictions = classifier.forward(data_test)\n",
    "\n",
    "# Convert predictions to blue/yellow binary labels and plot the result\n",
    "binarized_predictions = torch.where(predictions < 0.5, 0, 1).unsqueeze(1)\n",
    "fig, ax = plt.subplots(figsize=(6, 6))\n",
    "ax.scatter(data_test[:, 0], data_test[:, 1], c=binarized_predictions)\n",
    "ax.set_aspect(\"equal\", \"box\")\n",
    "plt.show()"
   ]
  }
 ],
 "metadata": {
  "language_info": {
   "name": "python"
  }
 },
 "nbformat": 4,
 "nbformat_minor": 4
}
