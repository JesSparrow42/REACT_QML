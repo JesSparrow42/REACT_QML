{
 "cells": [
  {
   "attachments": {},
   "cell_type": "markdown",
   "metadata": {},
   "source": [
    "# Simulation of a PT Series time-bin interferometer\n",
    "\n",
    "This is a continuation of the `getting_started.ipynb` notebook which illustrates different configurations for a PT Series including multiple loops and loops of different lengths.\n",
    "\n",
    "<center><img src=\"./figures/tbi.png\" alt=\"ORCA's PT Series\" width=\"600\"/></center>\n",
    "<center>Figure 1: Architecture of a PT Series device.</center>"
   ]
  },
  {
   "cell_type": "code",
   "execution_count": null,
   "metadata": {},
   "outputs": [],
   "source": [
    "# First, perform the relevant imports and navigate to the root folder\n",
    "import os\n",
    "import numpy as np\n",
    "from pprint import pprint\n",
    "\n",
    "if os.getcwd().endswith(\"notebooks\"):\n",
    "    os.chdir(\"..\")\n",
    "\n",
    "from ptseries.tbi import create_tbi"
   ]
  },
  {
   "cell_type": "markdown",
   "metadata": {},
   "source": [
    "## Simulating more loops\n",
    "\n",
    "To run simulations involving more than one loop, we specify some options for the \"create_tbi\" function. These options are used to automatically determine which back-end PT Series simulator to use. For instance, the \"single-loop\" simulator is ideally suited for simulating a PT Series with up to 1000 inputs and a single loop, whereas the \"multi-loop\" simulator can handle any number of loops but cannot simulate more than 20 inputs. Check the documentation or the README for the `ptseries.tbi` module to see which backend simulators are currently available.\n",
    "\n",
    "\n",
    "<center><img src=\"./figures/circuit.png\" alt=\"A circuit with to loops and 4 inputs\" width=\"400\"/></center>\n",
    "<center>Figure 3: Photonic circuit diagram of a two loop PT Series with input state |1110>.</center>\n",
    "\n",
    "In the following code, we simulate the circuit illustrated above. We will use $\\theta=\\pi/3$ for the first 3 beam splitters, and $\\theta=\\pi/6$ for the following three."
   ]
  },
  {
   "cell_type": "code",
   "execution_count": null,
   "metadata": {},
   "outputs": [],
   "source": [
    "n_samples = 10000\n",
    "beam_splitter_angles = [\n",
    "    np.pi / 3,\n",
    "    np.pi / 3,\n",
    "    np.pi / 3,\n",
    "    np.pi / 6,\n",
    "    np.pi / 6,\n",
    "    np.pi / 6,\n",
    "]\n",
    "\n",
    "input_state = (1, 1, 1, 0)\n",
    "tbi = create_tbi(n_loops=2)\n",
    "\n",
    "samples_2loops = tbi.sample(input_state, beam_splitter_angles, n_samples=n_samples)\n",
    "print(\n",
    "    \"Samples are presented as state: counts. For example, (0,0,1,2): 100 means that output state |0012> was measured 100 times.\"\n",
    ")\n",
    "pprint(samples_2loops)"
   ]
  },
  {
   "cell_type": "markdown",
   "metadata": {},
   "source": [
    "## Simulating loops of different lengths"
   ]
  },
  {
   "cell_type": "markdown",
   "metadata": {},
   "source": [
    "<center><img src=\"./figures/twoloops.png\" alt=\"A circuit with two loops\" width=\"400\"/></center>\n",
    "<center>Figure 4: Photonic circuit diagram of a two loop PT Series with input state |111>, where the second loop is twice the length of the first.</center>\n",
    "\n",
    "In the example, we consider a second loop that is twice as long as the first one. The first loop couples the mode 1 to 2 and 2 to 3, whereas the second one couples 1 to 3. \n",
    "\n",
    "To show how the second loop couples the modes, we consider a first set of beam splitters where the second loop is set to fully transmit the input light. We compare this to a case where the second loop is set to be fully reflective. "
   ]
  },
  {
   "cell_type": "code",
   "execution_count": null,
   "metadata": {},
   "outputs": [],
   "source": [
    "n_samples = 10000\n",
    "beam_splitter_angles_1 = [np.pi / 5, np.pi / 3, 0]\n",
    "beam_splitter_angles_2 = [np.pi / 5, np.pi / 3, np.pi / 2]\n",
    "\n",
    "input_state = (1, 1, 1)\n",
    "tbi = create_tbi(loop_lengths=[1, 2])\n",
    "\n",
    "samples_2loops_1 = tbi.sample(input_state, beam_splitter_angles_1, n_samples=n_samples)\n",
    "samples_2loops_2 = tbi.sample(input_state, beam_splitter_angles_2, n_samples=n_samples)\n",
    "\n",
    "print(\"state         config1   config2\")\n",
    "for key, value in samples_2loops_1.items():\n",
    "    print(key, \"    \", value, \"    \", samples_2loops_2.get(key, 0))"
   ]
  },
  {
   "cell_type": "markdown",
   "metadata": {},
   "source": [
    "As expected, we observe that the (2,0,1) and (1,0,2) states have switched their respective probabilities when the second loop is set to fully reflect instead of transmit."
   ]
  }
 ],
 "metadata": {
  "language_info": {
   "name": "python"
  }
 },
 "nbformat": 4,
 "nbformat_minor": 4
}
