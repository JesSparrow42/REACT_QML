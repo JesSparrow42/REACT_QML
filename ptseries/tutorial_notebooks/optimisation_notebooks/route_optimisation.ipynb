{
 "cells": [
  {
   "cell_type": "code",
   "execution_count": null,
   "metadata": {},
   "outputs": [],
   "source": [
    "import os\n",
    "import numpy as np\n",
    "import matplotlib.pyplot as plt\n",
    "\n",
    "if os.getcwd().endswith(\"notebooks\"):\n",
    "    os.chdir(\"../..\")\n",
    "\n",
    "from ptseries.algorithms.binary_solvers import BinaryBosonicSolver\n",
    "from ptseries.common.logger import Logger\n",
    "\n",
    "from PIL import Image\n",
    "from math import factorial\n",
    "\n",
    "from ptseries.common.set_seed import set_seed\n",
    "\n",
    "set_seed(0)"
   ]
  },
  {
   "cell_type": "markdown",
   "metadata": {},
   "source": [
    "# Optimising Routes for Travel"
   ]
  },
  {
   "cell_type": "markdown",
   "metadata": {},
   "source": [
    "In this notebook, we will go over how to use the BBS algorithm to solve the *travelling salesperson problem*. The notebook will cover the following:\n",
    "- Introduction to the travelling salesperson problem\n",
    "- Description of how to pose the problem as a binary optimisation task\n",
    "- Setup of the BBS algorithm to solve a toy example of the problem\n",
    "- Using the BBS algorithm to solve the problem with real world data (cities around the world)\n",
    "- Creating a sandbox with random data, and solving the travelling salesperson problem with added constraints\n",
    "\n",
    "We will assume basic knowledge of how the setup of the BBS algorithm works. If you are still unsure of this, see the `optimisation_intro.ipynb` notebook first.\n",
    "\n",
    "Using quantum processors to solve travelling salesperson problems is a topic which has been explored previously in research work, and the following notebook is in particular inspired by two such publications: https://arxiv.org/pdf/2406.14252, https://arxiv.org/pdf/2404.05448."
   ]
  },
  {
   "cell_type": "markdown",
   "metadata": {},
   "source": [
    "## Introduction to the Travelling Salesperson Problem\n",
    "The travelling salesperson problem is an optimisation task where we are given a set of locations and we want to find the shortest path which visits all of the locations, and returns to the start. In other words, we need to find the shortest round path visiting all of the locations. In this notebook, we will tackle tasks where we assume that we can travel from any one location to another in a straight line, but the problem can be formulated with additional constraints of, say, two locations not actually being connected etc.\n",
    "\n",
    "Say we are considering $n$ locations. There are $n!$ possible routes that could be taken around all of the locations. As such, it quickly becomes unreasonable to try to check all of the solutions for the shortest path by brute force: for a relatively small problem with 20 locations we already would need to check $20! = 2432902008176640000$ locations.\n",
    "\n",
    "We will visualise the problem. Let's get some arbitrary coordinates for 5 locations and plot them on a plane."
   ]
  },
  {
   "cell_type": "code",
   "execution_count": null,
   "metadata": {},
   "outputs": [],
   "source": [
    "# We set the coordinates for 5 locations\n",
    "x = [12, 26, 40, 95, 43]\n",
    "y = [2, 42, 72, 78, 12]\n",
    "\n",
    "n_locations = len(x)\n",
    "\n",
    "# Plot the locations\n",
    "plt.figure(figsize=(7, 5))\n",
    "plt.scatter(x, y, color=\"gray\", marker=\"o\", s=200)\n",
    "\n",
    "# Add labels to each point\n",
    "for i in range(len(x)):\n",
    "    plt.text(x[i], y[i], str(i), fontsize=12, ha=\"center\", va=\"center\", color=\"black\")\n",
    "\n",
    "# Hides the axes\n",
    "plt.axis(\"off\")\n",
    "\n",
    "plt.show()"
   ]
  },
  {
   "cell_type": "markdown",
   "metadata": {},
   "source": [
    "With such a simple example, we could quite easily take a guess at what an optimal route would be by hand and we'd probably be right. In this case, a path going 0 1 2 3 4 is the natural choice, and is in fact the shortest path. We draw out this route:"
   ]
  },
  {
   "cell_type": "code",
   "execution_count": null,
   "metadata": {},
   "outputs": [],
   "source": [
    "# Plot the locations\n",
    "plt.figure(figsize=(7, 5))\n",
    "plt.scatter(x, y, color=\"gray\", marker=\"o\", s=200)\n",
    "\n",
    "# Add labels to each point\n",
    "for i in range(len(x)):\n",
    "    plt.text(x[i], y[i], str(i), fontsize=12, ha=\"center\", va=\"center\", color=\"black\")\n",
    "\n",
    "# Stores the shortest path between the points\n",
    "shortest_path = [0, 1, 2, 3, 4]\n",
    "\n",
    "# Plots the shortest path\n",
    "for i in range(len(shortest_path) - 1):\n",
    "    start_loc = shortest_path[i]\n",
    "    end_loc = shortest_path[i + 1]\n",
    "\n",
    "    plt.plot([x[start_loc], x[end_loc]], [y[start_loc], y[end_loc]], color=\"red\")\n",
    "\n",
    "plt.plot(\n",
    "    [x[shortest_path[-1]], x[shortest_path[0]]],\n",
    "    [y[shortest_path[-1]], y[shortest_path[0]]],\n",
    "    color=\"red\",\n",
    ")\n",
    "\n",
    "# Hides the axes\n",
    "plt.axis(\"off\")\n",
    "\n",
    "plt.show()"
   ]
  },
  {
   "cell_type": "markdown",
   "metadata": {},
   "source": [
    "Recall, as mentioned earlier that for the travelling salesperson task we have to visit all of the locations in a round trip. So our choice of path 0 1 2 3 4 implicitly represents us also going back to location 0 after location 4."
   ]
  },
  {
   "cell_type": "markdown",
   "metadata": {},
   "source": [
    "## The Travelling Salesperson Problem as a Binary Optimisation Task\n",
    "\n",
    "Now that we understand what the travelling salesperson problem is, we need to figure out how to pose it as a binary optimisation task. This is non-trivial, there isn't necessarily a natural choice of how to encode a path as a binary string. Say we have $n$ locations we need to visit. A first idea might be to encode a route by setting up a bit string of $n$ size $n$ blocks, and having a $1$ in space $j$ of block $i$ if we visit location $j$ at time $i$. This is of course very inefficient as we need bit strings of size $n^2$, however it does lend itself to a QUBO formulation of the problem.\n",
    "\n",
    "Instead, we'll consider a maximally efficient encoding of the problem into binary, and use a non-QUBO cost function. Note that each route can be described as a permutation of the numbers from $0$ to $n-1$. There are $n!$ such permutations. So, we can correspond each bit string to one of these routes as long as we can find a function mapping bit strings to permutations. We would need length $\\lceil \\log_2(n!)\\rceil$ bit strings for this encoding. Luckily, such a function does exist, and we define it below:"
   ]
  },
  {
   "cell_type": "code",
   "execution_count": null,
   "metadata": {},
   "outputs": [],
   "source": [
    "# Function to convert a binary string to a permutation of 'n_locations' numbers\n",
    "\n",
    "\n",
    "def binary_to_permutation(binary_string, n_locations):\n",
    "    x = binary_to_gray(binary_string)\n",
    "\n",
    "    nodes = [i + 1 for i in range(n_locations)]\n",
    "    f = factorial(n_locations)\n",
    "    x = x % f\n",
    "\n",
    "    # Stores the permutation\n",
    "    s = []\n",
    "\n",
    "    for i in range(n_locations):\n",
    "        f = f / (n_locations - i)\n",
    "        k = int(np.floor(x / f))\n",
    "\n",
    "        s.append(nodes[k])\n",
    "\n",
    "        del nodes[k]\n",
    "\n",
    "        x = x - k * f\n",
    "\n",
    "    s = [x - 1 for x in s]\n",
    "    return s\n",
    "\n",
    "\n",
    "# Converts a binary string to GrayCode (a different ordering for binary numbers)\n",
    "def binary_to_gray(bit_string):\n",
    "    n = int(bit_string, 2)\n",
    "    return n ^ (n >> 1)"
   ]
  },
  {
   "cell_type": "markdown",
   "metadata": {},
   "source": [
    "For example, here if we input a binary string '101' we will get a possible permutation (i.e path through the locations) as an output. We get the permutation '0 2 1 4 3', which corresponds to visiting the 0th location then the 2nd then 1st and so on."
   ]
  },
  {
   "cell_type": "code",
   "execution_count": null,
   "metadata": {},
   "outputs": [],
   "source": [
    "print(binary_to_permutation(\"101\", 5))"
   ]
  },
  {
   "cell_type": "markdown",
   "metadata": {},
   "source": [
    "All that remains to do now is to define our cost function. The value we want to minimise is the distance of a path, so we need to define a function that takes a permutation (a candidate path) and calculates how long it is."
   ]
  },
  {
   "cell_type": "code",
   "execution_count": null,
   "metadata": {},
   "outputs": [],
   "source": [
    "# We first need to store the distances between all of the locations we need to visit\n",
    "n_locations = 5\n",
    "road_lengths = [[0 for i in range(n_locations)] for j in range(n_locations)]\n",
    "\n",
    "for i in range(n_locations):\n",
    "    for j in range(n_locations):\n",
    "        # Gets the distance between location i and j\n",
    "        x_length = abs(x[i] - x[j])\n",
    "        y_length = abs(y[i] - y[j])\n",
    "\n",
    "        road_length = np.sqrt(x_length**2 + y_length**2)\n",
    "        road_lengths[i][j] = road_length\n",
    "\n",
    "\n",
    "# This function takees a possible path, and calculate its total distance\n",
    "def path_length_calc(path, road_lengths):\n",
    "    total_distance = 0\n",
    "\n",
    "    for i in range(len(path) - 1):\n",
    "        distance = road_lengths[path[i]][path[i + 1]]\n",
    "        total_distance += distance\n",
    "\n",
    "    # Adds the final distance between the end location and start location\n",
    "    distance = road_lengths[path[-1]][path[0]]\n",
    "    total_distance += distance\n",
    "\n",
    "    return total_distance"
   ]
  },
  {
   "cell_type": "markdown",
   "metadata": {},
   "source": [
    "For example, we can now calculate the distance of the optimal path that we earlier found by hand in a simple example. We'll compare it to the length of a path we choose arbitrarily."
   ]
  },
  {
   "cell_type": "code",
   "execution_count": null,
   "metadata": {},
   "outputs": [],
   "source": [
    "print(\"Length of shortest path : \")\n",
    "print(round(path_length_calc([index - 1 for index in shortest_path], road_lengths), 2))\n",
    "\n",
    "random_path = [3, 0, 2, 1, 4]\n",
    "print(\"Length of randomly chosen path : \")\n",
    "print(round(path_length_calc(random_path, road_lengths), 2))"
   ]
  },
  {
   "cell_type": "markdown",
   "metadata": {},
   "source": [
    "## Solving a Toy Travelling Salesperson Problem with the BBS Algorithm"
   ]
  },
  {
   "cell_type": "markdown",
   "metadata": {},
   "source": [
    "Now we have all of the components we need, we will demonstrate running the BBS to find a solution to this example problem. We define a 'cost function' which tells the algorithm which value it wants to minimise. All this function will do is take a binary string, convert it to a permutation which in turn encodes a path, and then calculates the length of that path."
   ]
  },
  {
   "cell_type": "code",
   "execution_count": null,
   "metadata": {},
   "outputs": [],
   "source": [
    "def cost_fn_fact(road_lengths, n_locations):\n",
    "    def cost_fn(bit_string):\n",
    "        bit_string = bit_string.astype(int)\n",
    "\n",
    "        # Converts the numpy vector into a string\n",
    "        bit_str = \"\".join(map(str, bit_string))\n",
    "\n",
    "        # Converts the bit string into a permutation\n",
    "        perm = binary_to_permutation(bit_str, n_locations)\n",
    "\n",
    "        # Gets the length associated with that path\n",
    "        path_length = path_length_calc(path=perm, road_lengths=road_lengths)\n",
    "\n",
    "        return path_length\n",
    "\n",
    "    return cost_fn"
   ]
  },
  {
   "cell_type": "markdown",
   "metadata": {},
   "source": [
    "Now we will use the built-in BBS function to run the algorithm for us. As mentioned earlier, as we have 5! possible different permutations, we need at least $\\log_2 (5!) \\approx 6.906$ bits. This means, our binary encoding for each solution will use 7 bits. In the BBS algorithm, this corresponds to having 4 photons and 7 modes in the PT Series device that we are simulating. This is within the specifications of a PT-1 device!"
   ]
  },
  {
   "cell_type": "code",
   "execution_count": null,
   "metadata": {},
   "outputs": [],
   "source": [
    "logger = Logger(log_dir=None)\n",
    "\n",
    "# Defines the cost function we'll be using\n",
    "length_cost_fn = cost_fn_fact(road_lengths, n_locations)\n",
    "\n",
    "# Number of bits we need to encode all possible permutations\n",
    "n_bits = int(np.ceil(np.log2(factorial(n_locations))))\n",
    "\n",
    "# Calls the BBS algorithm\n",
    "bbs = BinaryBosonicSolver(n_bits, length_cost_fn)\n",
    "\n",
    "# Trains the binary bosonic solver\n",
    "bbs.train(learning_rate=1e-2, updates=100, print_frequency=10, logger=logger)\n",
    "print(\"Training finished\")\n",
    "\n",
    "opt_sol = np.array(bbs.config_min_encountered)\n",
    "opt_sol = opt_sol.astype(int)\n",
    "path = binary_to_permutation(\"\".join(map(str, opt_sol)), n_locations)\n",
    "print(\"Optimal path found : \")\n",
    "print(path)\n",
    "print(\"Optimal path length : \")\n",
    "print(str(round(path_length_calc(path, road_lengths), 2)))"
   ]
  },
  {
   "cell_type": "markdown",
   "metadata": {},
   "source": [
    "We draw the shortest path that the algorithm found."
   ]
  },
  {
   "cell_type": "code",
   "execution_count": null,
   "metadata": {},
   "outputs": [],
   "source": [
    "# Plot the locations\n",
    "plt.figure(figsize=(7, 5))\n",
    "plt.scatter(x, y, color=\"gray\", marker=\"o\", s=200)\n",
    "\n",
    "# Add labels to each point\n",
    "for i in range(len(x)):\n",
    "    plt.text(x[i], y[i], str(i), fontsize=12, ha=\"center\", va=\"center\", color=\"black\")\n",
    "\n",
    "# Stores the shortest path between the points that the algorithm found\n",
    "shortest_path = path\n",
    "\n",
    "# Plots the shortest path\n",
    "for i in range(len(shortest_path) - 1):\n",
    "    start_loc = shortest_path[i]\n",
    "    end_loc = shortest_path[i + 1]\n",
    "\n",
    "    plt.plot([x[start_loc], x[end_loc]], [y[start_loc], y[end_loc]], color=\"red\")\n",
    "\n",
    "plt.plot(\n",
    "    [x[shortest_path[-1]], x[shortest_path[0]]],\n",
    "    [y[shortest_path[-1]], y[shortest_path[0]]],\n",
    "    color=\"red\",\n",
    ")\n",
    "\n",
    "# Hides the axes\n",
    "plt.axis(\"off\")\n",
    "\n",
    "plt.show()"
   ]
  },
  {
   "cell_type": "markdown",
   "metadata": {},
   "source": [
    "The algorithm has found a path, and we can see that it is exactly the same as the optimal path we found by hand earlier, just with the location order possibly reversed, and starting from a different location. We've seen how we can encode the problem as a binary optimisation task, and use the BBS algorithm with a simulated PT Series device to find a good solution (in this case, the exact solution)."
   ]
  },
  {
   "cell_type": "markdown",
   "metadata": {},
   "source": [
    "## A Harder Problem - Cities Around The World"
   ]
  },
  {
   "cell_type": "markdown",
   "metadata": {},
   "source": [
    "Now we move on to a more complicated example. Say we are working for a business in sales, and need to visit lots of different cities around the world in one round trip. We want to find plane routes around the city that will minimise the distance (i.e. time) that we travel. Note that the way we set up the problem will be exactly the same as in the toy example; we will use the same encoder of binary strings to routes and the same cost function. The only difference will be the dataset we use."
   ]
  },
  {
   "cell_type": "code",
   "execution_count": null,
   "metadata": {},
   "outputs": [],
   "source": [
    "# Loads a map of the world\n",
    "image_path = \"./tutorial_notebooks/figures/World_Map.png\"\n",
    "img = Image.open(image_path)\n",
    "img_width, img_height = img.size\n",
    "\n",
    "# Stores the names of the cities we need to visit\n",
    "city_names = [\n",
    "    \"Austin\",\n",
    "    \"London\",\n",
    "    \"Seattle\",\n",
    "    \"Krakow\",\n",
    "    \"Toronto\",\n",
    "    \"Tokyo\",\n",
    "    \"Delhi\",\n",
    "    \"Windhoek\",\n",
    "    \"Melbourne\",\n",
    "    \"Buenos Aires\",\n",
    "]\n",
    "\n",
    "# Stores the locations of the cities\n",
    "coordinates = [\n",
    "    [436, 658],\n",
    "    [990, 503],\n",
    "    [291, 538],\n",
    "    [1102, 513],\n",
    "    [537, 570],\n",
    "    [1780, 624],\n",
    "    [1424, 678],\n",
    "    [1085, 978],\n",
    "    [1815, 1084],\n",
    "    [660, 1057],\n",
    "]\n",
    "\n",
    "# Create a figure and axis to plot the image\n",
    "fig, ax = plt.subplots(figsize=(14, 10))\n",
    "ax.imshow(img)\n",
    "\n",
    "# Plot circles at each location\n",
    "for i in range(len(coordinates)):\n",
    "    (x, y) = coordinates[i]\n",
    "    circle = plt.Circle((x, y), radius=10, color=\"red\", fill=False, linewidth=2)\n",
    "    ax.add_patch(circle)\n",
    "\n",
    "    # Add the city name at each location\n",
    "    ax.text(x, y, f\"{city_names[i]}\", color=\"black\", fontsize=12, ha=\"center\", va=\"top\")\n",
    "\n",
    "# Set limits to the image dimensions\n",
    "ax.set_xlim(0, img_width)\n",
    "ax.set_ylim(img_height, 0)\n",
    "ax.axis(\"off\")\n",
    "\n",
    "# Stores the x,y coordinates of the locations\n",
    "x = [a for [a, b] in coordinates]\n",
    "y = [b for [a, b] in coordinates]\n",
    "\n",
    "# Display the plot\n",
    "plt.show()"
   ]
  },
  {
   "cell_type": "markdown",
   "metadata": {},
   "source": [
    "Again, we calculate the distances between the locations and store these."
   ]
  },
  {
   "cell_type": "code",
   "execution_count": null,
   "metadata": {},
   "outputs": [],
   "source": [
    "n_locations = len(city_names)\n",
    "# Stores the lengths of the distances between cities\n",
    "road_lengths = [[0 for i in range(n_locations)] for j in range(n_locations)]\n",
    "\n",
    "\n",
    "for i in range(n_locations):\n",
    "    for j in range(n_locations):\n",
    "        # Gets the length of the distance between location i and j\n",
    "        x_length = abs(x[i] - x[j])\n",
    "        y_length = abs(y[i] - y[j])\n",
    "\n",
    "        road_length = np.sqrt(x_length**2 + y_length**2)\n",
    "        road_lengths[i][j] = road_length / 100"
   ]
  },
  {
   "cell_type": "markdown",
   "metadata": {},
   "source": [
    "Now as we have 10 total locations, we have $10! \\approx 5,000,000$ possible different paths we can take and so we need at least $\\log_2(10!) \\approx 21.8$ length bit strings.  There are actually $10! = 3628800$ different possible routes that could be taken! We can see that as these problems get larger, it quickly becomes infeasible to just check every single possible route.\n",
    "\n",
    "To run the BBS algorithm, we need to simulate a PT Series device with 11 photons and 22 qumodes. This is well within the specifications of a PT-2 device; we will simulate a PT-2 system with a simple single-loop configuration. Below, we call the same cost function and 'binary to permutation' encoders we defined earlier, and run the optimisation algorithm. Note that, since we are simulating a larger quantum system, this will take a longer time to run."
   ]
  },
  {
   "cell_type": "code",
   "execution_count": null,
   "metadata": {},
   "outputs": [],
   "source": [
    "logger = Logger(log_dir=None)\n",
    "length_cost_fn = cost_fn_fact(road_lengths, n_locations)\n",
    "\n",
    "# n bits we need to encode all possible permutations\n",
    "n_bits = int(np.ceil(np.log2(factorial(n_locations))))\n",
    "\n",
    "# Initialising the algorithm\n",
    "bbs = BinaryBosonicSolver(n_bits, length_cost_fn)\n",
    "\n",
    "# Training the algorithm\n",
    "bbs.train(learning_rate=1e-2, updates=400, print_frequency=50, logger=logger)\n",
    "print(\"Training finished\")\n",
    "\n",
    "opt_sol = np.array(bbs.config_min_encountered)\n",
    "opt_sol = opt_sol.astype(int)\n",
    "path = binary_to_permutation(\"\".join(map(str, opt_sol)), n_locations)\n"
   ]
  },
  {
   "cell_type": "markdown",
   "metadata": {},
   "source": [
    "We display how the losses the BBS algorithm achieved change throughout the update steps. We can see that, as the algorithm continues, smaller and smaller losses are being achieved. This means that the bit strings being considered are better and better on average. We kept a logger of the training data, so we can now output a graph showing how the losses evolved during the training process."
   ]
  },
  {
   "cell_type": "code",
   "execution_count": null,
   "metadata": {},
   "outputs": [],
   "source": [
    "# Plot the values for the loss as we go through update steps\n",
    "def plot_training(logger):\n",
    "    x_values_qubo = list(map(int, logger.logs[\"energy_avg\"].keys()))\n",
    "    energies_avg_qubo = list(logger.logs[\"energy_avg\"].values())\n",
    "    plt.plot(x_values_qubo, energies_avg_qubo)\n",
    "    plt.xlabel(\"Updates\")\n",
    "    plt.ylabel(\"Loss\")\n",
    "    plt.show()\n",
    "\n",
    "\n",
    "plot_training(logger)"
   ]
  },
  {
   "cell_type": "markdown",
   "metadata": {},
   "source": [
    "We see that the algorithm has been getting better and better solutions, and converges to some average loss value. The fact that we see convergence is promising: this suggests the algorithm has reached a (possibly local) minimum. We expect that this corresponds to the BBS algorithm producing bit strings that encode good solutions. We display the best solution that the algorithm has found on the map."
   ]
  },
  {
   "cell_type": "code",
   "execution_count": null,
   "metadata": {},
   "outputs": [],
   "source": [
    "# Gets the list of paths taken in the solution\n",
    "roads_taken = []\n",
    "for i in range(len(path) - 1):\n",
    "    roads_taken.append([path[i], path[i + 1]])\n",
    "\n",
    "# Adds the path between the end location and start location\n",
    "roads_taken.append([path[-1], path[0]])\n",
    "\n",
    "# Create a figure and axis to plot the image\n",
    "fig, ax = plt.subplots(figsize=(14, 10))\n",
    "ax.imshow(img)\n",
    "\n",
    "# Plot circles at each location\n",
    "for i in range(len(coordinates)):\n",
    "    (x, y) = coordinates[i]\n",
    "    circle = plt.Circle((x, y), radius=10, color=\"red\", fill=False, linewidth=2)\n",
    "    ax.add_patch(circle)\n",
    "\n",
    "    # Add the city name at each location\n",
    "    ax.text(x, y, f\"{city_names[i]}\", color=\"black\", fontsize=12, ha=\"center\", va=\"top\")\n",
    "\n",
    "# Set limits to the image dimensions\n",
    "ax.set_xlim(0, img_width)\n",
    "ax.set_ylim(img_height, 0)  # Invert y-axis to match image coordinates (top-left origin)\n",
    "\n",
    "# Hide the axes\n",
    "ax.axis(\"off\")\n",
    "\n",
    "x = [a for [a, b] in coordinates]\n",
    "y = [b for [a, b] in coordinates]\n",
    "\n",
    "for i in range(len(x)):\n",
    "    for j in range(i + 1, len(x)):\n",
    "        if [i, j] in roads_taken or [j, i] in roads_taken:\n",
    "            plt.plot([x[i], x[j]], [y[i], y[j]], color=\"red\")\n",
    "        else:\n",
    "            # plt.plot([x[i], x[j]], [y[i], y[j]], color='gray')\n",
    "            pass\n",
    "\n",
    "# Display the plot\n",
    "plt.show()"
   ]
  },
  {
   "cell_type": "markdown",
   "metadata": {},
   "source": [
    "And there we have it! Running the algorithm, the salesperson has got a route that they can take which takes them across all of the locations quickly in one round trip. We may not have got to the best possible solution (although for this example we should), but we have got to a good solution and have done so relatively quickly. With there being lots of different possible routes to consider, it would take a very long time to consider all of them to find the perfect solution. Using BBS, the salesperson quickly gets a good solution."
   ]
  },
  {
   "cell_type": "markdown",
   "metadata": {},
   "source": [
    "## Random Data Sandbox & Adding Constraints"
   ]
  },
  {
   "cell_type": "markdown",
   "metadata": {},
   "source": [
    "In this section, we will generate random location data for the travelling salesperson problem, and then will show how to introduce *constraints* into the problem. By constraints, we mean limitations on which solutions we wish to consider. For example, we may not only want to find the shortest route around the points, but also one which visits, say, location 4 directly after location 1. \n",
    "\n",
    "First, we generate 7 randomly placed locations and consider running the BBS algorithm for the general travelling salesperson problem as we did before."
   ]
  },
  {
   "cell_type": "code",
   "execution_count": null,
   "metadata": {},
   "outputs": [],
   "source": [
    "n_locations = 7  # Change the number of locations we're generating\n",
    "\n",
    "\n",
    "# Generates n_locations random coordinates defining the locations we want to visit\n",
    "def location_gen(n_locations, x_ax_size=(0, 100), y_ax_size=(0, 100)):\n",
    "    x = np.random.uniform(x_ax_size[0], x_ax_size[1], n_locations)\n",
    "    y = np.random.uniform(y_ax_size[0], y_ax_size[1], n_locations)\n",
    "\n",
    "    return x, y\n",
    "\n",
    "\n",
    "x, y = location_gen(n_locations=n_locations)\n",
    "\n",
    "x, y = location_gen(n_locations=n_locations)\n",
    "\n",
    "# We plot the generated locations\n",
    "plt.figure(figsize=(7, 5))\n",
    "plt.scatter(x, y, color=\"gray\", marker=\"o\", s=500)\n",
    "\n",
    "\n",
    "# Add labels to each point\n",
    "for i in range(len(x)):\n",
    "    plt.text(x[i], y[i], f\"{i}\", fontsize=12, ha=\"center\", va=\"center\", color=\"black\")\n",
    "\n",
    "plt.axis(\"off\")\n",
    "plt.show()\n",
    "\n",
    "\n",
    "# Stores the lengths of each of the roads between locations\n",
    "road_lengths = [[0 for i in range(n_locations)] for j in range(n_locations)]\n",
    "\n",
    "for i in range(n_locations):\n",
    "    for j in range(n_locations):\n",
    "        # Gets the length of the road between location i and j\n",
    "        x_length = abs(x[i] - x[j])\n",
    "        y_length = abs(y[i] - y[j])\n",
    "\n",
    "        road_length = np.sqrt(x_length**2 + y_length**2)\n",
    "        road_lengths[i][j] = road_length"
   ]
  },
  {
   "cell_type": "markdown",
   "metadata": {},
   "source": [
    "We now run the BBS algorithm exactly as we did in the previous examples to find the shortest path around all of the points."
   ]
  },
  {
   "cell_type": "code",
   "execution_count": null,
   "metadata": {},
   "outputs": [],
   "source": [
    "logger = Logger(log_dir=None)\n",
    "length_cost_fn = cost_fn_fact(road_lengths, n_locations)\n",
    "\n",
    "# n bits we need to encode all possible permutations\n",
    "n_bits = int(np.ceil(np.log2(factorial(n_locations))))\n",
    "\n",
    "# Initialising the algorithm\n",
    "bbs = BinaryBosonicSolver(n_bits, length_cost_fn)\n",
    "\n",
    "# Training the algorithm\n",
    "bbs.train(learning_rate=1e-2, updates=200, print_frequency=50, logger=logger)\n",
    "print(\"Training finished\")\n",
    "\n",
    "opt_sol = np.array(bbs.config_min_encountered)\n",
    "opt_sol = opt_sol.astype(int)\n",
    "path = binary_to_permutation(\"\".join(map(str, opt_sol)), n_locations)\n",
    "\n",
    "roads_taken = []\n",
    "\n",
    "# Gets the list of paths taken in the solution\n",
    "for i in range(len(path) - 1):\n",
    "    roads_taken.append([path[i], path[i + 1]])\n",
    "\n",
    "# Adds the path between the end location and start location\n",
    "roads_taken.append([path[-1], path[0]])"
   ]
  },
  {
   "cell_type": "code",
   "execution_count": null,
   "metadata": {},
   "outputs": [],
   "source": [
    "# We plot the optimal path found\n",
    "plt.figure(figsize=(7, 5))\n",
    "plt.scatter(x, y, color=\"gray\", marker=\"o\", s=500)\n",
    "\n",
    "# Draw the roads between the locations\n",
    "for i in range(len(x)):\n",
    "    for j in range(i + 1, len(x)):\n",
    "        if [i, j] in roads_taken or [j, i] in roads_taken:\n",
    "            plt.plot([x[i], x[j]], [y[i], y[j]], color=\"red\")\n",
    "        else:\n",
    "            # plt.plot([x[i], x[j]], [y[i], y[j]], color='gray')\n",
    "            pass\n",
    "\n",
    "# Add labels to each point\n",
    "for i in range(len(x)):\n",
    "    plt.text(x[i], y[i], f\"{i}\", fontsize=12, ha=\"center\", va=\"center\", color=\"black\")\n",
    "\n",
    "plt.axis(\"off\")\n",
    "plt.show()"
   ]
  },
  {
   "cell_type": "markdown",
   "metadata": {},
   "source": [
    "Everything is working, and we are finding good optimal paths! Now, we want to introduce constraints. As mentioned before, say we want solutions that visit location 4 directly after location 1. Recall in the introductory `optimisation_intro.ipynb` notebook, for the knapsack problem we wanted to only consider solutions that didn't go over the max weight limit. To achieve this, we penalised any solution that went over the weight capacity. We will proceed in exactly the same way here: we will add a check to our cost function to see whether a solution breaks an imposed constraint and, if it does, we penalise the solution heavily. This will dissuade the algorithm from considering such solutions.\n",
    "\n",
    "We implement this by defining a function `check_visited_next` that checks if a candidate route (stored in the form of a permutation as previously) visits 4 directly after 1. We then add a check for this in the cost function. If a path doesn't visit 4 after 1, then we artificially increase that paths length (add a penalty)."
   ]
  },
  {
   "cell_type": "code",
   "execution_count": null,
   "metadata": {},
   "outputs": [],
   "source": [
    "# We define a new cost function that adds a penalty term if a path doesn't visit 4 before or after 1\n",
    "\n",
    "# This function will take as input a permutation (list of location visit order) and check if a location\n",
    "#  comes directly before or after another\n",
    "def check_visited_next(perm, first, second):\n",
    "    first_index = perm.index(first)\n",
    "\n",
    "    if (\n",
    "        perm[(first_index + 1) % len(perm)] == second\n",
    "        or perm[(first_index - 1) % len(perm)] == second\n",
    "    ):\n",
    "        return True\n",
    "\n",
    "    else:\n",
    "        return False\n",
    "\n",
    "\n",
    "def Penalty_cost_fn_fact(road_lengths, n_locations, penalty):\n",
    "    def cost_fn(bit_string):\n",
    "        bit_string = bit_string.astype(int)\n",
    "\n",
    "        # Converts the numpy vector into a string\n",
    "        bit_str = \"\".join(map(str, bit_string))\n",
    "\n",
    "        # Converts the bit string into a permutation\n",
    "        perm = binary_to_permutation(bit_str, n_locations)\n",
    "\n",
    "        # Gets the length associated with that path\n",
    "        path_length = path_length_calc(path=perm, road_lengths=road_lengths)\n",
    "\n",
    "        # NEW ADDITION:\n",
    "        # If 4 isn't visited before or after 1, we add a big penalty term to the path length returned\n",
    "        if not check_visited_next(\n",
    "            perm, 1, 4\n",
    "        ):  # change the numbers 1 and 4 here to change the two locations we want to be visited one after another\n",
    "            penalty_term = penalty\n",
    "\n",
    "            path_length += penalty_term\n",
    "\n",
    "        return path_length\n",
    "\n",
    "    return cost_fn"
   ]
  },
  {
   "cell_type": "markdown",
   "metadata": {},
   "source": [
    "Now we've added this penalty into the cost function the BBS algorithm is minimising. Running the algorithm exactly as before, we will see that this is taken into account by the algorithm, and the solution we find does in fact visit 4 after 1."
   ]
  },
  {
   "cell_type": "code",
   "execution_count": null,
   "metadata": {},
   "outputs": [],
   "source": [
    "logger = Logger(log_dir=None)\n",
    "\n",
    "# We change the cost function we are using to the new 'Penalty' cost function\n",
    "length_cost_fn = Penalty_cost_fn_fact(road_lengths, n_locations, 1000)\n",
    "\n",
    "# Initialising the algorithm\n",
    "bbs = BinaryBosonicSolver(\n",
    "    n_bits, length_cost_fn, tbi_params={\"tbi_type\": \"single-loop\"}\n",
    ")\n",
    "\n",
    "# Training the algorithm\n",
    "bbs.train(learning_rate=1e-2, updates=200, print_frequency=50, logger=logger)\n",
    "print(\"Training finished\")\n",
    "\n",
    "opt_sol = np.array(bbs.config_min_encountered)\n",
    "opt_sol = opt_sol.astype(int)\n",
    "path = binary_to_permutation(\"\".join(map(str, opt_sol)), n_locations)\n",
    "\n",
    "roads_taken = []\n",
    "\n",
    "# Gets the list of paths taken in the solution\n",
    "for i in range(len(path) - 1):\n",
    "    roads_taken.append([path[i], path[i + 1]])\n",
    "\n",
    "# Adds the path between the end location and start location\n",
    "roads_taken.append([path[-1], path[0]])"
   ]
  },
  {
   "cell_type": "markdown",
   "metadata": {},
   "source": [
    "With training finished, we now output the solution that we got. We see that we get a route that visits location 4 after location 1, while minimising its total distance under this constraint. This is exactly what we hoped to get. Any other constraint can be added in exactly the same manner."
   ]
  },
  {
   "cell_type": "code",
   "execution_count": null,
   "metadata": {},
   "outputs": [],
   "source": [
    "# We plot the optimal path found\n",
    "plt.figure(figsize=(7, 5))\n",
    "plt.scatter(x, y, color=\"gray\", marker=\"o\", s=500)\n",
    "\n",
    "# Draw the roads between the locations\n",
    "for i in range(len(x)):\n",
    "    for j in range(i + 1, len(x)):\n",
    "        if [i, j] in roads_taken or [j, i] in roads_taken:\n",
    "            plt.plot([x[i], x[j]], [y[i], y[j]], color=\"red\")\n",
    "        else:\n",
    "            # plt.plot([x[i], x[j]], [y[i], y[j]], color='gray')\n",
    "            pass\n",
    "\n",
    "# Add labels to each point\n",
    "for i in range(len(x)):\n",
    "    plt.text(x[i], y[i], f\"{i}\", fontsize=12, ha=\"center\", va=\"center\", color=\"black\")\n",
    "\n",
    "plt.axis(\"off\")\n",
    "plt.show()"
   ]
  },
  {
   "cell_type": "markdown",
   "metadata": {},
   "source": [
    "In this notebook we have introduced the travelling salesman problem, seen how it can be posed as a binary optimisation task, and set the BBS algorithm to find good solutions to the problem using both artificial and real-world data. Finally, we created a random data 'sandbox' and considered adding constraints to the problem to reduce the number of solutions that we consider."
   ]
  }
 ],
 "metadata": {
  "kernelspec": {
   "display_name": "Python 3",
   "language": "python",
   "name": "python3"
  },
  "language_info": {
   "codemirror_mode": {
    "name": "ipython",
    "version": 3
   },
   "file_extension": ".py",
   "mimetype": "text/x-python",
   "name": "python",
   "nbconvert_exporter": "python",
   "pygments_lexer": "ipython3",
   "version": "3.10.12"
  }
 },
 "nbformat": 4,
 "nbformat_minor": 4
}
